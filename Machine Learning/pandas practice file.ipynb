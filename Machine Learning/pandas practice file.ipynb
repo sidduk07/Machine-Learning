{
 "cells": [
  {
   "cell_type": "code",
   "execution_count": 1,
   "id": "a2149892",
   "metadata": {},
   "outputs": [],
   "source": [
    "import pandas as pd\n",
    "import numpy as np"
   ]
  },
  {
   "cell_type": "code",
   "execution_count": 2,
   "id": "8fd0461e",
   "metadata": {},
   "outputs": [],
   "source": [
    "dict1 ={\n",
    "    \"name\":['harry','siddu','mallu','nagu'],\n",
    "    \"marks\":[92,13,15,18],\n",
    "    \"city\": ['bang','ukd','kolkata','ranebennur']\n",
    "}"
   ]
  },
  {
   "cell_type": "code",
   "execution_count": 3,
   "id": "8847e7c0",
   "metadata": {},
   "outputs": [
    {
     "data": {
      "text/plain": [
       "{'name': ['harry', 'siddu', 'mallu', 'nagu'],\n",
       " 'marks': [92, 13, 15, 18],\n",
       " 'city': ['bang', 'ukd', 'kolkata', 'ranebennur']}"
      ]
     },
     "execution_count": 3,
     "metadata": {},
     "output_type": "execute_result"
    }
   ],
   "source": [
    "dict1"
   ]
  },
  {
   "cell_type": "code",
   "execution_count": 4,
   "id": "816ae95c",
   "metadata": {},
   "outputs": [],
   "source": [
    "df = pd.DataFrame(dict1)"
   ]
  },
  {
   "cell_type": "code",
   "execution_count": 5,
   "id": "29edc387",
   "metadata": {},
   "outputs": [
    {
     "data": {
      "text/html": [
       "<div>\n",
       "<style scoped>\n",
       "    .dataframe tbody tr th:only-of-type {\n",
       "        vertical-align: middle;\n",
       "    }\n",
       "\n",
       "    .dataframe tbody tr th {\n",
       "        vertical-align: top;\n",
       "    }\n",
       "\n",
       "    .dataframe thead th {\n",
       "        text-align: right;\n",
       "    }\n",
       "</style>\n",
       "<table border=\"1\" class=\"dataframe\">\n",
       "  <thead>\n",
       "    <tr style=\"text-align: right;\">\n",
       "      <th></th>\n",
       "      <th>name</th>\n",
       "      <th>marks</th>\n",
       "      <th>city</th>\n",
       "    </tr>\n",
       "  </thead>\n",
       "  <tbody>\n",
       "    <tr>\n",
       "      <th>0</th>\n",
       "      <td>harry</td>\n",
       "      <td>92</td>\n",
       "      <td>bang</td>\n",
       "    </tr>\n",
       "    <tr>\n",
       "      <th>1</th>\n",
       "      <td>siddu</td>\n",
       "      <td>13</td>\n",
       "      <td>ukd</td>\n",
       "    </tr>\n",
       "    <tr>\n",
       "      <th>2</th>\n",
       "      <td>mallu</td>\n",
       "      <td>15</td>\n",
       "      <td>kolkata</td>\n",
       "    </tr>\n",
       "    <tr>\n",
       "      <th>3</th>\n",
       "      <td>nagu</td>\n",
       "      <td>18</td>\n",
       "      <td>ranebennur</td>\n",
       "    </tr>\n",
       "  </tbody>\n",
       "</table>\n",
       "</div>"
      ],
      "text/plain": [
       "    name  marks        city\n",
       "0  harry     92        bang\n",
       "1  siddu     13         ukd\n",
       "2  mallu     15     kolkata\n",
       "3   nagu     18  ranebennur"
      ]
     },
     "execution_count": 5,
     "metadata": {},
     "output_type": "execute_result"
    }
   ],
   "source": [
    "df"
   ]
  },
  {
   "cell_type": "code",
   "execution_count": 6,
   "id": "0096c513",
   "metadata": {},
   "outputs": [],
   "source": [
    "df.to_csv('friends.csv')"
   ]
  },
  {
   "cell_type": "code",
   "execution_count": 7,
   "id": "aef82e2a",
   "metadata": {},
   "outputs": [],
   "source": [
    "df.to_csv('friends1.csv', index=False)"
   ]
  },
  {
   "cell_type": "code",
   "execution_count": 8,
   "id": "b792dc49",
   "metadata": {},
   "outputs": [
    {
     "data": {
      "text/html": [
       "<div>\n",
       "<style scoped>\n",
       "    .dataframe tbody tr th:only-of-type {\n",
       "        vertical-align: middle;\n",
       "    }\n",
       "\n",
       "    .dataframe tbody tr th {\n",
       "        vertical-align: top;\n",
       "    }\n",
       "\n",
       "    .dataframe thead th {\n",
       "        text-align: right;\n",
       "    }\n",
       "</style>\n",
       "<table border=\"1\" class=\"dataframe\">\n",
       "  <thead>\n",
       "    <tr style=\"text-align: right;\">\n",
       "      <th></th>\n",
       "      <th>name</th>\n",
       "      <th>marks</th>\n",
       "      <th>city</th>\n",
       "    </tr>\n",
       "  </thead>\n",
       "  <tbody>\n",
       "    <tr>\n",
       "      <th>0</th>\n",
       "      <td>harry</td>\n",
       "      <td>92</td>\n",
       "      <td>bang</td>\n",
       "    </tr>\n",
       "    <tr>\n",
       "      <th>1</th>\n",
       "      <td>siddu</td>\n",
       "      <td>13</td>\n",
       "      <td>ukd</td>\n",
       "    </tr>\n",
       "  </tbody>\n",
       "</table>\n",
       "</div>"
      ],
      "text/plain": [
       "    name  marks  city\n",
       "0  harry     92  bang\n",
       "1  siddu     13   ukd"
      ]
     },
     "execution_count": 8,
     "metadata": {},
     "output_type": "execute_result"
    }
   ],
   "source": [
    "df.head(2)"
   ]
  },
  {
   "cell_type": "code",
   "execution_count": 9,
   "id": "b101c2cd",
   "metadata": {},
   "outputs": [
    {
     "data": {
      "text/html": [
       "<div>\n",
       "<style scoped>\n",
       "    .dataframe tbody tr th:only-of-type {\n",
       "        vertical-align: middle;\n",
       "    }\n",
       "\n",
       "    .dataframe tbody tr th {\n",
       "        vertical-align: top;\n",
       "    }\n",
       "\n",
       "    .dataframe thead th {\n",
       "        text-align: right;\n",
       "    }\n",
       "</style>\n",
       "<table border=\"1\" class=\"dataframe\">\n",
       "  <thead>\n",
       "    <tr style=\"text-align: right;\">\n",
       "      <th></th>\n",
       "      <th>name</th>\n",
       "      <th>marks</th>\n",
       "      <th>city</th>\n",
       "    </tr>\n",
       "  </thead>\n",
       "  <tbody>\n",
       "    <tr>\n",
       "      <th>2</th>\n",
       "      <td>mallu</td>\n",
       "      <td>15</td>\n",
       "      <td>kolkata</td>\n",
       "    </tr>\n",
       "    <tr>\n",
       "      <th>3</th>\n",
       "      <td>nagu</td>\n",
       "      <td>18</td>\n",
       "      <td>ranebennur</td>\n",
       "    </tr>\n",
       "  </tbody>\n",
       "</table>\n",
       "</div>"
      ],
      "text/plain": [
       "    name  marks        city\n",
       "2  mallu     15     kolkata\n",
       "3   nagu     18  ranebennur"
      ]
     },
     "execution_count": 9,
     "metadata": {},
     "output_type": "execute_result"
    }
   ],
   "source": [
    "df.tail(2)"
   ]
  },
  {
   "cell_type": "code",
   "execution_count": 10,
   "id": "9f7a3d9a",
   "metadata": {},
   "outputs": [
    {
     "data": {
      "text/html": [
       "<div>\n",
       "<style scoped>\n",
       "    .dataframe tbody tr th:only-of-type {\n",
       "        vertical-align: middle;\n",
       "    }\n",
       "\n",
       "    .dataframe tbody tr th {\n",
       "        vertical-align: top;\n",
       "    }\n",
       "\n",
       "    .dataframe thead th {\n",
       "        text-align: right;\n",
       "    }\n",
       "</style>\n",
       "<table border=\"1\" class=\"dataframe\">\n",
       "  <thead>\n",
       "    <tr style=\"text-align: right;\">\n",
       "      <th></th>\n",
       "      <th>marks</th>\n",
       "    </tr>\n",
       "  </thead>\n",
       "  <tbody>\n",
       "    <tr>\n",
       "      <th>count</th>\n",
       "      <td>4.000000</td>\n",
       "    </tr>\n",
       "    <tr>\n",
       "      <th>mean</th>\n",
       "      <td>34.500000</td>\n",
       "    </tr>\n",
       "    <tr>\n",
       "      <th>std</th>\n",
       "      <td>38.388366</td>\n",
       "    </tr>\n",
       "    <tr>\n",
       "      <th>min</th>\n",
       "      <td>13.000000</td>\n",
       "    </tr>\n",
       "    <tr>\n",
       "      <th>25%</th>\n",
       "      <td>14.500000</td>\n",
       "    </tr>\n",
       "    <tr>\n",
       "      <th>50%</th>\n",
       "      <td>16.500000</td>\n",
       "    </tr>\n",
       "    <tr>\n",
       "      <th>75%</th>\n",
       "      <td>36.500000</td>\n",
       "    </tr>\n",
       "    <tr>\n",
       "      <th>max</th>\n",
       "      <td>92.000000</td>\n",
       "    </tr>\n",
       "  </tbody>\n",
       "</table>\n",
       "</div>"
      ],
      "text/plain": [
       "           marks\n",
       "count   4.000000\n",
       "mean   34.500000\n",
       "std    38.388366\n",
       "min    13.000000\n",
       "25%    14.500000\n",
       "50%    16.500000\n",
       "75%    36.500000\n",
       "max    92.000000"
      ]
     },
     "execution_count": 10,
     "metadata": {},
     "output_type": "execute_result"
    }
   ],
   "source": [
    "df.describe()"
   ]
  },
  {
   "cell_type": "code",
   "execution_count": 11,
   "id": "ee8b9c12",
   "metadata": {},
   "outputs": [],
   "source": [
    "df1 =pd.read_csv('housing.csv')"
   ]
  },
  {
   "cell_type": "code",
   "execution_count": 12,
   "id": "139268cf",
   "metadata": {},
   "outputs": [
    {
     "data": {
      "text/html": [
       "<div>\n",
       "<style scoped>\n",
       "    .dataframe tbody tr th:only-of-type {\n",
       "        vertical-align: middle;\n",
       "    }\n",
       "\n",
       "    .dataframe tbody tr th {\n",
       "        vertical-align: top;\n",
       "    }\n",
       "\n",
       "    .dataframe thead th {\n",
       "        text-align: right;\n",
       "    }\n",
       "</style>\n",
       "<table border=\"1\" class=\"dataframe\">\n",
       "  <thead>\n",
       "    <tr style=\"text-align: right;\">\n",
       "      <th></th>\n",
       "      <th>Unnamed: 0</th>\n",
       "      <th>price</th>\n",
       "      <th>lotsize</th>\n",
       "      <th>bedrooms</th>\n",
       "      <th>bathrms</th>\n",
       "      <th>stories</th>\n",
       "      <th>driveway</th>\n",
       "      <th>recroom</th>\n",
       "      <th>fullbase</th>\n",
       "      <th>gashw</th>\n",
       "      <th>airco</th>\n",
       "      <th>garagepl</th>\n",
       "      <th>prefarea</th>\n",
       "    </tr>\n",
       "  </thead>\n",
       "  <tbody>\n",
       "    <tr>\n",
       "      <th>0</th>\n",
       "      <td>1</td>\n",
       "      <td>42000.0</td>\n",
       "      <td>5850</td>\n",
       "      <td>3</td>\n",
       "      <td>1</td>\n",
       "      <td>2</td>\n",
       "      <td>yes</td>\n",
       "      <td>no</td>\n",
       "      <td>yes</td>\n",
       "      <td>no</td>\n",
       "      <td>no</td>\n",
       "      <td>1</td>\n",
       "      <td>no</td>\n",
       "    </tr>\n",
       "    <tr>\n",
       "      <th>1</th>\n",
       "      <td>2</td>\n",
       "      <td>38500.0</td>\n",
       "      <td>4000</td>\n",
       "      <td>2</td>\n",
       "      <td>1</td>\n",
       "      <td>1</td>\n",
       "      <td>yes</td>\n",
       "      <td>no</td>\n",
       "      <td>no</td>\n",
       "      <td>no</td>\n",
       "      <td>no</td>\n",
       "      <td>0</td>\n",
       "      <td>no</td>\n",
       "    </tr>\n",
       "    <tr>\n",
       "      <th>2</th>\n",
       "      <td>3</td>\n",
       "      <td>49500.0</td>\n",
       "      <td>3060</td>\n",
       "      <td>3</td>\n",
       "      <td>1</td>\n",
       "      <td>1</td>\n",
       "      <td>yes</td>\n",
       "      <td>no</td>\n",
       "      <td>no</td>\n",
       "      <td>no</td>\n",
       "      <td>no</td>\n",
       "      <td>0</td>\n",
       "      <td>no</td>\n",
       "    </tr>\n",
       "    <tr>\n",
       "      <th>3</th>\n",
       "      <td>4</td>\n",
       "      <td>60500.0</td>\n",
       "      <td>6650</td>\n",
       "      <td>3</td>\n",
       "      <td>1</td>\n",
       "      <td>2</td>\n",
       "      <td>yes</td>\n",
       "      <td>yes</td>\n",
       "      <td>no</td>\n",
       "      <td>no</td>\n",
       "      <td>no</td>\n",
       "      <td>0</td>\n",
       "      <td>no</td>\n",
       "    </tr>\n",
       "    <tr>\n",
       "      <th>4</th>\n",
       "      <td>5</td>\n",
       "      <td>61000.0</td>\n",
       "      <td>6360</td>\n",
       "      <td>2</td>\n",
       "      <td>1</td>\n",
       "      <td>1</td>\n",
       "      <td>yes</td>\n",
       "      <td>no</td>\n",
       "      <td>no</td>\n",
       "      <td>no</td>\n",
       "      <td>no</td>\n",
       "      <td>0</td>\n",
       "      <td>no</td>\n",
       "    </tr>\n",
       "    <tr>\n",
       "      <th>...</th>\n",
       "      <td>...</td>\n",
       "      <td>...</td>\n",
       "      <td>...</td>\n",
       "      <td>...</td>\n",
       "      <td>...</td>\n",
       "      <td>...</td>\n",
       "      <td>...</td>\n",
       "      <td>...</td>\n",
       "      <td>...</td>\n",
       "      <td>...</td>\n",
       "      <td>...</td>\n",
       "      <td>...</td>\n",
       "      <td>...</td>\n",
       "    </tr>\n",
       "    <tr>\n",
       "      <th>541</th>\n",
       "      <td>542</td>\n",
       "      <td>91500.0</td>\n",
       "      <td>4800</td>\n",
       "      <td>3</td>\n",
       "      <td>2</td>\n",
       "      <td>4</td>\n",
       "      <td>yes</td>\n",
       "      <td>yes</td>\n",
       "      <td>no</td>\n",
       "      <td>no</td>\n",
       "      <td>yes</td>\n",
       "      <td>0</td>\n",
       "      <td>no</td>\n",
       "    </tr>\n",
       "    <tr>\n",
       "      <th>542</th>\n",
       "      <td>543</td>\n",
       "      <td>94000.0</td>\n",
       "      <td>6000</td>\n",
       "      <td>3</td>\n",
       "      <td>2</td>\n",
       "      <td>4</td>\n",
       "      <td>yes</td>\n",
       "      <td>no</td>\n",
       "      <td>no</td>\n",
       "      <td>no</td>\n",
       "      <td>yes</td>\n",
       "      <td>0</td>\n",
       "      <td>no</td>\n",
       "    </tr>\n",
       "    <tr>\n",
       "      <th>543</th>\n",
       "      <td>544</td>\n",
       "      <td>103000.0</td>\n",
       "      <td>6000</td>\n",
       "      <td>3</td>\n",
       "      <td>2</td>\n",
       "      <td>4</td>\n",
       "      <td>yes</td>\n",
       "      <td>yes</td>\n",
       "      <td>no</td>\n",
       "      <td>no</td>\n",
       "      <td>yes</td>\n",
       "      <td>1</td>\n",
       "      <td>no</td>\n",
       "    </tr>\n",
       "    <tr>\n",
       "      <th>544</th>\n",
       "      <td>545</td>\n",
       "      <td>105000.0</td>\n",
       "      <td>6000</td>\n",
       "      <td>3</td>\n",
       "      <td>2</td>\n",
       "      <td>2</td>\n",
       "      <td>yes</td>\n",
       "      <td>yes</td>\n",
       "      <td>no</td>\n",
       "      <td>no</td>\n",
       "      <td>yes</td>\n",
       "      <td>1</td>\n",
       "      <td>no</td>\n",
       "    </tr>\n",
       "    <tr>\n",
       "      <th>545</th>\n",
       "      <td>546</td>\n",
       "      <td>105000.0</td>\n",
       "      <td>6000</td>\n",
       "      <td>3</td>\n",
       "      <td>1</td>\n",
       "      <td>2</td>\n",
       "      <td>yes</td>\n",
       "      <td>no</td>\n",
       "      <td>no</td>\n",
       "      <td>no</td>\n",
       "      <td>yes</td>\n",
       "      <td>1</td>\n",
       "      <td>no</td>\n",
       "    </tr>\n",
       "  </tbody>\n",
       "</table>\n",
       "<p>546 rows × 13 columns</p>\n",
       "</div>"
      ],
      "text/plain": [
       "     Unnamed: 0     price  lotsize  bedrooms  bathrms  stories driveway  \\\n",
       "0             1   42000.0     5850         3        1        2      yes   \n",
       "1             2   38500.0     4000         2        1        1      yes   \n",
       "2             3   49500.0     3060         3        1        1      yes   \n",
       "3             4   60500.0     6650         3        1        2      yes   \n",
       "4             5   61000.0     6360         2        1        1      yes   \n",
       "..          ...       ...      ...       ...      ...      ...      ...   \n",
       "541         542   91500.0     4800         3        2        4      yes   \n",
       "542         543   94000.0     6000         3        2        4      yes   \n",
       "543         544  103000.0     6000         3        2        4      yes   \n",
       "544         545  105000.0     6000         3        2        2      yes   \n",
       "545         546  105000.0     6000         3        1        2      yes   \n",
       "\n",
       "    recroom fullbase gashw airco  garagepl prefarea  \n",
       "0        no      yes    no    no         1       no  \n",
       "1        no       no    no    no         0       no  \n",
       "2        no       no    no    no         0       no  \n",
       "3       yes       no    no    no         0       no  \n",
       "4        no       no    no    no         0       no  \n",
       "..      ...      ...   ...   ...       ...      ...  \n",
       "541     yes       no    no   yes         0       no  \n",
       "542      no       no    no   yes         0       no  \n",
       "543     yes       no    no   yes         1       no  \n",
       "544     yes       no    no   yes         1       no  \n",
       "545      no       no    no   yes         1       no  \n",
       "\n",
       "[546 rows x 13 columns]"
      ]
     },
     "execution_count": 12,
     "metadata": {},
     "output_type": "execute_result"
    }
   ],
   "source": [
    "df1\n"
   ]
  },
  {
   "cell_type": "code",
   "execution_count": 13,
   "id": "806328bd",
   "metadata": {},
   "outputs": [
    {
     "data": {
      "text/plain": [
       "42000.0"
      ]
     },
     "execution_count": 13,
     "metadata": {},
     "output_type": "execute_result"
    }
   ],
   "source": [
    "df1[\"price\"][0]"
   ]
  },
  {
   "cell_type": "code",
   "execution_count": 14,
   "id": "5d1fa778",
   "metadata": {},
   "outputs": [],
   "source": [
    "df.index=['first','second','third','fourth']"
   ]
  },
  {
   "cell_type": "code",
   "execution_count": 15,
   "id": "0667ee29",
   "metadata": {},
   "outputs": [
    {
     "data": {
      "text/html": [
       "<div>\n",
       "<style scoped>\n",
       "    .dataframe tbody tr th:only-of-type {\n",
       "        vertical-align: middle;\n",
       "    }\n",
       "\n",
       "    .dataframe tbody tr th {\n",
       "        vertical-align: top;\n",
       "    }\n",
       "\n",
       "    .dataframe thead th {\n",
       "        text-align: right;\n",
       "    }\n",
       "</style>\n",
       "<table border=\"1\" class=\"dataframe\">\n",
       "  <thead>\n",
       "    <tr style=\"text-align: right;\">\n",
       "      <th></th>\n",
       "      <th>name</th>\n",
       "      <th>marks</th>\n",
       "      <th>city</th>\n",
       "    </tr>\n",
       "  </thead>\n",
       "  <tbody>\n",
       "    <tr>\n",
       "      <th>first</th>\n",
       "      <td>harry</td>\n",
       "      <td>92</td>\n",
       "      <td>bang</td>\n",
       "    </tr>\n",
       "    <tr>\n",
       "      <th>second</th>\n",
       "      <td>siddu</td>\n",
       "      <td>13</td>\n",
       "      <td>ukd</td>\n",
       "    </tr>\n",
       "    <tr>\n",
       "      <th>third</th>\n",
       "      <td>mallu</td>\n",
       "      <td>15</td>\n",
       "      <td>kolkata</td>\n",
       "    </tr>\n",
       "    <tr>\n",
       "      <th>fourth</th>\n",
       "      <td>nagu</td>\n",
       "      <td>18</td>\n",
       "      <td>ranebennur</td>\n",
       "    </tr>\n",
       "  </tbody>\n",
       "</table>\n",
       "</div>"
      ],
      "text/plain": [
       "         name  marks        city\n",
       "first   harry     92        bang\n",
       "second  siddu     13         ukd\n",
       "third   mallu     15     kolkata\n",
       "fourth   nagu     18  ranebennur"
      ]
     },
     "execution_count": 15,
     "metadata": {},
     "output_type": "execute_result"
    }
   ],
   "source": [
    "df"
   ]
  },
  {
   "cell_type": "code",
   "execution_count": 16,
   "id": "bf858485",
   "metadata": {},
   "outputs": [],
   "source": [
    "ser= pd.Series(np.random.rand(34))\n"
   ]
  },
  {
   "cell_type": "code",
   "execution_count": 17,
   "id": "1e837bdb",
   "metadata": {},
   "outputs": [
    {
     "data": {
      "text/plain": [
       "pandas.core.series.Series"
      ]
     },
     "execution_count": 17,
     "metadata": {},
     "output_type": "execute_result"
    }
   ],
   "source": [
    "type(ser)"
   ]
  },
  {
   "cell_type": "code",
   "execution_count": 18,
   "id": "bb9f301f",
   "metadata": {},
   "outputs": [],
   "source": [
    "newdf = pd.DataFrame(np.random.rand(334,5) ,  index=np.arange(334))"
   ]
  },
  {
   "cell_type": "code",
   "execution_count": 19,
   "id": "ab251fcd",
   "metadata": {},
   "outputs": [
    {
     "data": {
      "text/html": [
       "<div>\n",
       "<style scoped>\n",
       "    .dataframe tbody tr th:only-of-type {\n",
       "        vertical-align: middle;\n",
       "    }\n",
       "\n",
       "    .dataframe tbody tr th {\n",
       "        vertical-align: top;\n",
       "    }\n",
       "\n",
       "    .dataframe thead th {\n",
       "        text-align: right;\n",
       "    }\n",
       "</style>\n",
       "<table border=\"1\" class=\"dataframe\">\n",
       "  <thead>\n",
       "    <tr style=\"text-align: right;\">\n",
       "      <th></th>\n",
       "      <th>0</th>\n",
       "      <th>1</th>\n",
       "      <th>2</th>\n",
       "      <th>3</th>\n",
       "      <th>4</th>\n",
       "    </tr>\n",
       "  </thead>\n",
       "  <tbody>\n",
       "    <tr>\n",
       "      <th>0</th>\n",
       "      <td>0.549458</td>\n",
       "      <td>0.574043</td>\n",
       "      <td>0.106320</td>\n",
       "      <td>0.509728</td>\n",
       "      <td>0.169962</td>\n",
       "    </tr>\n",
       "    <tr>\n",
       "      <th>1</th>\n",
       "      <td>0.269239</td>\n",
       "      <td>0.762450</td>\n",
       "      <td>0.128035</td>\n",
       "      <td>0.990498</td>\n",
       "      <td>0.333555</td>\n",
       "    </tr>\n",
       "    <tr>\n",
       "      <th>2</th>\n",
       "      <td>0.994008</td>\n",
       "      <td>0.754798</td>\n",
       "      <td>0.442994</td>\n",
       "      <td>0.640687</td>\n",
       "      <td>0.631210</td>\n",
       "    </tr>\n",
       "    <tr>\n",
       "      <th>3</th>\n",
       "      <td>0.422978</td>\n",
       "      <td>0.143340</td>\n",
       "      <td>0.919965</td>\n",
       "      <td>0.296447</td>\n",
       "      <td>0.359804</td>\n",
       "    </tr>\n",
       "    <tr>\n",
       "      <th>4</th>\n",
       "      <td>0.559401</td>\n",
       "      <td>0.631973</td>\n",
       "      <td>0.326173</td>\n",
       "      <td>0.379839</td>\n",
       "      <td>0.633844</td>\n",
       "    </tr>\n",
       "  </tbody>\n",
       "</table>\n",
       "</div>"
      ],
      "text/plain": [
       "          0         1         2         3         4\n",
       "0  0.549458  0.574043  0.106320  0.509728  0.169962\n",
       "1  0.269239  0.762450  0.128035  0.990498  0.333555\n",
       "2  0.994008  0.754798  0.442994  0.640687  0.631210\n",
       "3  0.422978  0.143340  0.919965  0.296447  0.359804\n",
       "4  0.559401  0.631973  0.326173  0.379839  0.633844"
      ]
     },
     "execution_count": 19,
     "metadata": {},
     "output_type": "execute_result"
    }
   ],
   "source": [
    "type(newdf)\n",
    "newdf.head()"
   ]
  },
  {
   "cell_type": "code",
   "execution_count": 20,
   "id": "1f2cf032",
   "metadata": {},
   "outputs": [
    {
     "data": {
      "text/html": [
       "<div>\n",
       "<style scoped>\n",
       "    .dataframe tbody tr th:only-of-type {\n",
       "        vertical-align: middle;\n",
       "    }\n",
       "\n",
       "    .dataframe tbody tr th {\n",
       "        vertical-align: top;\n",
       "    }\n",
       "\n",
       "    .dataframe thead th {\n",
       "        text-align: right;\n",
       "    }\n",
       "</style>\n",
       "<table border=\"1\" class=\"dataframe\">\n",
       "  <thead>\n",
       "    <tr style=\"text-align: right;\">\n",
       "      <th></th>\n",
       "      <th>0</th>\n",
       "      <th>1</th>\n",
       "      <th>2</th>\n",
       "      <th>3</th>\n",
       "      <th>4</th>\n",
       "    </tr>\n",
       "  </thead>\n",
       "  <tbody>\n",
       "    <tr>\n",
       "      <th>count</th>\n",
       "      <td>334.000000</td>\n",
       "      <td>334.000000</td>\n",
       "      <td>334.000000</td>\n",
       "      <td>334.000000</td>\n",
       "      <td>334.000000</td>\n",
       "    </tr>\n",
       "    <tr>\n",
       "      <th>mean</th>\n",
       "      <td>0.495428</td>\n",
       "      <td>0.496081</td>\n",
       "      <td>0.500047</td>\n",
       "      <td>0.508770</td>\n",
       "      <td>0.496218</td>\n",
       "    </tr>\n",
       "    <tr>\n",
       "      <th>std</th>\n",
       "      <td>0.296100</td>\n",
       "      <td>0.288668</td>\n",
       "      <td>0.286340</td>\n",
       "      <td>0.281645</td>\n",
       "      <td>0.292030</td>\n",
       "    </tr>\n",
       "    <tr>\n",
       "      <th>min</th>\n",
       "      <td>0.002713</td>\n",
       "      <td>0.005507</td>\n",
       "      <td>0.004487</td>\n",
       "      <td>0.000214</td>\n",
       "      <td>0.003649</td>\n",
       "    </tr>\n",
       "    <tr>\n",
       "      <th>25%</th>\n",
       "      <td>0.229056</td>\n",
       "      <td>0.239515</td>\n",
       "      <td>0.258810</td>\n",
       "      <td>0.290194</td>\n",
       "      <td>0.253584</td>\n",
       "    </tr>\n",
       "    <tr>\n",
       "      <th>50%</th>\n",
       "      <td>0.485354</td>\n",
       "      <td>0.503266</td>\n",
       "      <td>0.505942</td>\n",
       "      <td>0.509574</td>\n",
       "      <td>0.505977</td>\n",
       "    </tr>\n",
       "    <tr>\n",
       "      <th>75%</th>\n",
       "      <td>0.757966</td>\n",
       "      <td>0.738063</td>\n",
       "      <td>0.751844</td>\n",
       "      <td>0.747621</td>\n",
       "      <td>0.751554</td>\n",
       "    </tr>\n",
       "    <tr>\n",
       "      <th>max</th>\n",
       "      <td>0.999745</td>\n",
       "      <td>0.999895</td>\n",
       "      <td>0.998930</td>\n",
       "      <td>0.993278</td>\n",
       "      <td>0.999817</td>\n",
       "    </tr>\n",
       "  </tbody>\n",
       "</table>\n",
       "</div>"
      ],
      "text/plain": [
       "                0           1           2           3           4\n",
       "count  334.000000  334.000000  334.000000  334.000000  334.000000\n",
       "mean     0.495428    0.496081    0.500047    0.508770    0.496218\n",
       "std      0.296100    0.288668    0.286340    0.281645    0.292030\n",
       "min      0.002713    0.005507    0.004487    0.000214    0.003649\n",
       "25%      0.229056    0.239515    0.258810    0.290194    0.253584\n",
       "50%      0.485354    0.503266    0.505942    0.509574    0.505977\n",
       "75%      0.757966    0.738063    0.751844    0.747621    0.751554\n",
       "max      0.999745    0.999895    0.998930    0.993278    0.999817"
      ]
     },
     "execution_count": 20,
     "metadata": {},
     "output_type": "execute_result"
    }
   ],
   "source": [
    "newdf.describe()"
   ]
  },
  {
   "cell_type": "code",
   "execution_count": 21,
   "id": "972b75cd",
   "metadata": {},
   "outputs": [
    {
     "data": {
      "text/plain": [
       "0    float64\n",
       "1    float64\n",
       "2    float64\n",
       "3    float64\n",
       "4    float64\n",
       "dtype: object"
      ]
     },
     "execution_count": 21,
     "metadata": {},
     "output_type": "execute_result"
    }
   ],
   "source": [
    "newdf.dtypes"
   ]
  },
  {
   "cell_type": "code",
   "execution_count": 22,
   "id": "cb31594c",
   "metadata": {},
   "outputs": [],
   "source": [
    "newdf[0][0]=\"siddu\""
   ]
  },
  {
   "cell_type": "code",
   "execution_count": 23,
   "id": "1ad2d376",
   "metadata": {},
   "outputs": [
    {
     "data": {
      "text/plain": [
       "0     object\n",
       "1    float64\n",
       "2    float64\n",
       "3    float64\n",
       "4    float64\n",
       "dtype: object"
      ]
     },
     "execution_count": 23,
     "metadata": {},
     "output_type": "execute_result"
    }
   ],
   "source": [
    "newdf.dtypes"
   ]
  },
  {
   "cell_type": "code",
   "execution_count": 24,
   "id": "a3c4dbe3",
   "metadata": {},
   "outputs": [
    {
     "data": {
      "text/html": [
       "<div>\n",
       "<style scoped>\n",
       "    .dataframe tbody tr th:only-of-type {\n",
       "        vertical-align: middle;\n",
       "    }\n",
       "\n",
       "    .dataframe tbody tr th {\n",
       "        vertical-align: top;\n",
       "    }\n",
       "\n",
       "    .dataframe thead th {\n",
       "        text-align: right;\n",
       "    }\n",
       "</style>\n",
       "<table border=\"1\" class=\"dataframe\">\n",
       "  <thead>\n",
       "    <tr style=\"text-align: right;\">\n",
       "      <th></th>\n",
       "      <th>0</th>\n",
       "      <th>1</th>\n",
       "      <th>2</th>\n",
       "      <th>3</th>\n",
       "      <th>4</th>\n",
       "    </tr>\n",
       "  </thead>\n",
       "  <tbody>\n",
       "    <tr>\n",
       "      <th>0</th>\n",
       "      <td>siddu</td>\n",
       "      <td>0.574043</td>\n",
       "      <td>0.106320</td>\n",
       "      <td>0.509728</td>\n",
       "      <td>0.169962</td>\n",
       "    </tr>\n",
       "    <tr>\n",
       "      <th>1</th>\n",
       "      <td>0.269239</td>\n",
       "      <td>0.762450</td>\n",
       "      <td>0.128035</td>\n",
       "      <td>0.990498</td>\n",
       "      <td>0.333555</td>\n",
       "    </tr>\n",
       "    <tr>\n",
       "      <th>2</th>\n",
       "      <td>0.994008</td>\n",
       "      <td>0.754798</td>\n",
       "      <td>0.442994</td>\n",
       "      <td>0.640687</td>\n",
       "      <td>0.631210</td>\n",
       "    </tr>\n",
       "    <tr>\n",
       "      <th>3</th>\n",
       "      <td>0.422978</td>\n",
       "      <td>0.143340</td>\n",
       "      <td>0.919965</td>\n",
       "      <td>0.296447</td>\n",
       "      <td>0.359804</td>\n",
       "    </tr>\n",
       "    <tr>\n",
       "      <th>4</th>\n",
       "      <td>0.559401</td>\n",
       "      <td>0.631973</td>\n",
       "      <td>0.326173</td>\n",
       "      <td>0.379839</td>\n",
       "      <td>0.633844</td>\n",
       "    </tr>\n",
       "  </tbody>\n",
       "</table>\n",
       "</div>"
      ],
      "text/plain": [
       "          0         1         2         3         4\n",
       "0     siddu  0.574043  0.106320  0.509728  0.169962\n",
       "1  0.269239  0.762450  0.128035  0.990498  0.333555\n",
       "2  0.994008  0.754798  0.442994  0.640687  0.631210\n",
       "3  0.422978  0.143340  0.919965  0.296447  0.359804\n",
       "4  0.559401  0.631973  0.326173  0.379839  0.633844"
      ]
     },
     "execution_count": 24,
     "metadata": {},
     "output_type": "execute_result"
    }
   ],
   "source": [
    "newdf.head()"
   ]
  },
  {
   "cell_type": "code",
   "execution_count": 25,
   "id": "01131c5f",
   "metadata": {},
   "outputs": [
    {
     "data": {
      "text/plain": [
       "Int64Index([  0,   1,   2,   3,   4,   5,   6,   7,   8,   9,\n",
       "            ...\n",
       "            324, 325, 326, 327, 328, 329, 330, 331, 332, 333],\n",
       "           dtype='int64', length=334)"
      ]
     },
     "execution_count": 25,
     "metadata": {},
     "output_type": "execute_result"
    }
   ],
   "source": [
    "newdf.index"
   ]
  },
  {
   "cell_type": "code",
   "execution_count": 26,
   "id": "68e0d131",
   "metadata": {},
   "outputs": [
    {
     "data": {
      "text/plain": [
       "RangeIndex(start=0, stop=5, step=1)"
      ]
     },
     "execution_count": 26,
     "metadata": {},
     "output_type": "execute_result"
    }
   ],
   "source": [
    "newdf.columns"
   ]
  },
  {
   "cell_type": "code",
   "execution_count": 27,
   "id": "99010e96",
   "metadata": {},
   "outputs": [
    {
     "data": {
      "text/plain": [
       "array([['siddu', 0.5740433490667526, 0.1063204976158535,\n",
       "        0.509727616571688, 0.16996167861559686],\n",
       "       [0.26923941649308614, 0.7624503589750475, 0.12803531827276105,\n",
       "        0.9904982216792839, 0.3335550908530891],\n",
       "       [0.9940084462979868, 0.7547976353887771, 0.4429938831513741,\n",
       "        0.6406869535501908, 0.6312096953921249],\n",
       "       ...,\n",
       "       [0.35043607762558737, 0.7517437396379136, 0.08344823624912778,\n",
       "        0.9535865555246484, 0.1657956010468311],\n",
       "       [0.7602030696986392, 0.238890895928633, 0.54346399576469,\n",
       "        0.25185707998539286, 0.8680506929244257],\n",
       "       [0.8699742998742358, 0.3407791498064521, 0.4049246593379512,\n",
       "        0.62808208324479, 0.23606203673282922]], dtype=object)"
      ]
     },
     "execution_count": 27,
     "metadata": {},
     "output_type": "execute_result"
    }
   ],
   "source": [
    "newdf.to_numpy()"
   ]
  },
  {
   "cell_type": "code",
   "execution_count": 28,
   "id": "9d75aa7f",
   "metadata": {},
   "outputs": [],
   "source": [
    "newdf[0][0]=0.34566"
   ]
  },
  {
   "cell_type": "code",
   "execution_count": 29,
   "id": "28de45b3",
   "metadata": {},
   "outputs": [
    {
     "data": {
      "text/html": [
       "<div>\n",
       "<style scoped>\n",
       "    .dataframe tbody tr th:only-of-type {\n",
       "        vertical-align: middle;\n",
       "    }\n",
       "\n",
       "    .dataframe tbody tr th {\n",
       "        vertical-align: top;\n",
       "    }\n",
       "\n",
       "    .dataframe thead th {\n",
       "        text-align: right;\n",
       "    }\n",
       "</style>\n",
       "<table border=\"1\" class=\"dataframe\">\n",
       "  <thead>\n",
       "    <tr style=\"text-align: right;\">\n",
       "      <th></th>\n",
       "      <th>0</th>\n",
       "      <th>1</th>\n",
       "      <th>2</th>\n",
       "      <th>3</th>\n",
       "      <th>4</th>\n",
       "    </tr>\n",
       "  </thead>\n",
       "  <tbody>\n",
       "    <tr>\n",
       "      <th>0</th>\n",
       "      <td>0.34566</td>\n",
       "      <td>0.574043</td>\n",
       "      <td>0.106320</td>\n",
       "      <td>0.509728</td>\n",
       "      <td>0.169962</td>\n",
       "    </tr>\n",
       "    <tr>\n",
       "      <th>1</th>\n",
       "      <td>0.269239</td>\n",
       "      <td>0.762450</td>\n",
       "      <td>0.128035</td>\n",
       "      <td>0.990498</td>\n",
       "      <td>0.333555</td>\n",
       "    </tr>\n",
       "    <tr>\n",
       "      <th>2</th>\n",
       "      <td>0.994008</td>\n",
       "      <td>0.754798</td>\n",
       "      <td>0.442994</td>\n",
       "      <td>0.640687</td>\n",
       "      <td>0.631210</td>\n",
       "    </tr>\n",
       "    <tr>\n",
       "      <th>3</th>\n",
       "      <td>0.422978</td>\n",
       "      <td>0.143340</td>\n",
       "      <td>0.919965</td>\n",
       "      <td>0.296447</td>\n",
       "      <td>0.359804</td>\n",
       "    </tr>\n",
       "    <tr>\n",
       "      <th>4</th>\n",
       "      <td>0.559401</td>\n",
       "      <td>0.631973</td>\n",
       "      <td>0.326173</td>\n",
       "      <td>0.379839</td>\n",
       "      <td>0.633844</td>\n",
       "    </tr>\n",
       "  </tbody>\n",
       "</table>\n",
       "</div>"
      ],
      "text/plain": [
       "          0         1         2         3         4\n",
       "0   0.34566  0.574043  0.106320  0.509728  0.169962\n",
       "1  0.269239  0.762450  0.128035  0.990498  0.333555\n",
       "2  0.994008  0.754798  0.442994  0.640687  0.631210\n",
       "3  0.422978  0.143340  0.919965  0.296447  0.359804\n",
       "4  0.559401  0.631973  0.326173  0.379839  0.633844"
      ]
     },
     "execution_count": 29,
     "metadata": {},
     "output_type": "execute_result"
    }
   ],
   "source": [
    "newdf.head()"
   ]
  },
  {
   "cell_type": "code",
   "execution_count": 30,
   "id": "658e27a4",
   "metadata": {},
   "outputs": [
    {
     "data": {
      "text/plain": [
       "0     object\n",
       "1    float64\n",
       "2    float64\n",
       "3    float64\n",
       "4    float64\n",
       "dtype: object"
      ]
     },
     "execution_count": 30,
     "metadata": {},
     "output_type": "execute_result"
    }
   ],
   "source": [
    "newdf.dtypes"
   ]
  },
  {
   "cell_type": "code",
   "execution_count": 31,
   "id": "9fb37676",
   "metadata": {},
   "outputs": [
    {
     "data": {
      "text/html": [
       "<div>\n",
       "<style scoped>\n",
       "    .dataframe tbody tr th:only-of-type {\n",
       "        vertical-align: middle;\n",
       "    }\n",
       "\n",
       "    .dataframe tbody tr th {\n",
       "        vertical-align: top;\n",
       "    }\n",
       "\n",
       "    .dataframe thead th {\n",
       "        text-align: right;\n",
       "    }\n",
       "</style>\n",
       "<table border=\"1\" class=\"dataframe\">\n",
       "  <thead>\n",
       "    <tr style=\"text-align: right;\">\n",
       "      <th></th>\n",
       "      <th>0</th>\n",
       "      <th>1</th>\n",
       "      <th>2</th>\n",
       "      <th>3</th>\n",
       "      <th>4</th>\n",
       "      <th>5</th>\n",
       "      <th>6</th>\n",
       "      <th>7</th>\n",
       "      <th>8</th>\n",
       "      <th>9</th>\n",
       "      <th>...</th>\n",
       "      <th>324</th>\n",
       "      <th>325</th>\n",
       "      <th>326</th>\n",
       "      <th>327</th>\n",
       "      <th>328</th>\n",
       "      <th>329</th>\n",
       "      <th>330</th>\n",
       "      <th>331</th>\n",
       "      <th>332</th>\n",
       "      <th>333</th>\n",
       "    </tr>\n",
       "  </thead>\n",
       "  <tbody>\n",
       "    <tr>\n",
       "      <th>0</th>\n",
       "      <td>0.34566</td>\n",
       "      <td>0.269239</td>\n",
       "      <td>0.994008</td>\n",
       "      <td>0.422978</td>\n",
       "      <td>0.559401</td>\n",
       "      <td>0.643489</td>\n",
       "      <td>0.011947</td>\n",
       "      <td>0.086966</td>\n",
       "      <td>0.625101</td>\n",
       "      <td>0.792988</td>\n",
       "      <td>...</td>\n",
       "      <td>0.989574</td>\n",
       "      <td>0.207423</td>\n",
       "      <td>0.338272</td>\n",
       "      <td>0.825141</td>\n",
       "      <td>0.207866</td>\n",
       "      <td>0.235456</td>\n",
       "      <td>0.301745</td>\n",
       "      <td>0.350436</td>\n",
       "      <td>0.760203</td>\n",
       "      <td>0.869974</td>\n",
       "    </tr>\n",
       "    <tr>\n",
       "      <th>1</th>\n",
       "      <td>0.574043</td>\n",
       "      <td>0.76245</td>\n",
       "      <td>0.754798</td>\n",
       "      <td>0.14334</td>\n",
       "      <td>0.631973</td>\n",
       "      <td>0.888243</td>\n",
       "      <td>0.340331</td>\n",
       "      <td>0.352504</td>\n",
       "      <td>0.22871</td>\n",
       "      <td>0.282478</td>\n",
       "      <td>...</td>\n",
       "      <td>0.107943</td>\n",
       "      <td>0.37046</td>\n",
       "      <td>0.502406</td>\n",
       "      <td>0.22745</td>\n",
       "      <td>0.316384</td>\n",
       "      <td>0.128413</td>\n",
       "      <td>0.429724</td>\n",
       "      <td>0.751744</td>\n",
       "      <td>0.238891</td>\n",
       "      <td>0.340779</td>\n",
       "    </tr>\n",
       "    <tr>\n",
       "      <th>2</th>\n",
       "      <td>0.10632</td>\n",
       "      <td>0.128035</td>\n",
       "      <td>0.442994</td>\n",
       "      <td>0.919965</td>\n",
       "      <td>0.326173</td>\n",
       "      <td>0.471375</td>\n",
       "      <td>0.498796</td>\n",
       "      <td>0.544865</td>\n",
       "      <td>0.943678</td>\n",
       "      <td>0.051304</td>\n",
       "      <td>...</td>\n",
       "      <td>0.540665</td>\n",
       "      <td>0.390884</td>\n",
       "      <td>0.517325</td>\n",
       "      <td>0.6479</td>\n",
       "      <td>0.901593</td>\n",
       "      <td>0.142624</td>\n",
       "      <td>0.447939</td>\n",
       "      <td>0.083448</td>\n",
       "      <td>0.543464</td>\n",
       "      <td>0.404925</td>\n",
       "    </tr>\n",
       "    <tr>\n",
       "      <th>3</th>\n",
       "      <td>0.509728</td>\n",
       "      <td>0.990498</td>\n",
       "      <td>0.640687</td>\n",
       "      <td>0.296447</td>\n",
       "      <td>0.379839</td>\n",
       "      <td>0.484032</td>\n",
       "      <td>0.557591</td>\n",
       "      <td>0.243946</td>\n",
       "      <td>0.530784</td>\n",
       "      <td>0.016698</td>\n",
       "      <td>...</td>\n",
       "      <td>0.450352</td>\n",
       "      <td>0.224046</td>\n",
       "      <td>0.950989</td>\n",
       "      <td>0.350282</td>\n",
       "      <td>0.749494</td>\n",
       "      <td>0.111231</td>\n",
       "      <td>0.634051</td>\n",
       "      <td>0.953587</td>\n",
       "      <td>0.251857</td>\n",
       "      <td>0.628082</td>\n",
       "    </tr>\n",
       "    <tr>\n",
       "      <th>4</th>\n",
       "      <td>0.169962</td>\n",
       "      <td>0.333555</td>\n",
       "      <td>0.63121</td>\n",
       "      <td>0.359804</td>\n",
       "      <td>0.633844</td>\n",
       "      <td>0.983441</td>\n",
       "      <td>0.279829</td>\n",
       "      <td>0.540315</td>\n",
       "      <td>0.791734</td>\n",
       "      <td>0.549119</td>\n",
       "      <td>...</td>\n",
       "      <td>0.87823</td>\n",
       "      <td>0.25308</td>\n",
       "      <td>0.230885</td>\n",
       "      <td>0.565828</td>\n",
       "      <td>0.325583</td>\n",
       "      <td>0.080775</td>\n",
       "      <td>0.122849</td>\n",
       "      <td>0.165796</td>\n",
       "      <td>0.868051</td>\n",
       "      <td>0.236062</td>\n",
       "    </tr>\n",
       "  </tbody>\n",
       "</table>\n",
       "<p>5 rows × 334 columns</p>\n",
       "</div>"
      ],
      "text/plain": [
       "        0         1         2         3         4         5         6    \\\n",
       "0   0.34566  0.269239  0.994008  0.422978  0.559401  0.643489  0.011947   \n",
       "1  0.574043   0.76245  0.754798   0.14334  0.631973  0.888243  0.340331   \n",
       "2   0.10632  0.128035  0.442994  0.919965  0.326173  0.471375  0.498796   \n",
       "3  0.509728  0.990498  0.640687  0.296447  0.379839  0.484032  0.557591   \n",
       "4  0.169962  0.333555   0.63121  0.359804  0.633844  0.983441  0.279829   \n",
       "\n",
       "        7         8         9    ...       324       325       326       327  \\\n",
       "0  0.086966  0.625101  0.792988  ...  0.989574  0.207423  0.338272  0.825141   \n",
       "1  0.352504   0.22871  0.282478  ...  0.107943   0.37046  0.502406   0.22745   \n",
       "2  0.544865  0.943678  0.051304  ...  0.540665  0.390884  0.517325    0.6479   \n",
       "3  0.243946  0.530784  0.016698  ...  0.450352  0.224046  0.950989  0.350282   \n",
       "4  0.540315  0.791734  0.549119  ...   0.87823   0.25308  0.230885  0.565828   \n",
       "\n",
       "        328       329       330       331       332       333  \n",
       "0  0.207866  0.235456  0.301745  0.350436  0.760203  0.869974  \n",
       "1  0.316384  0.128413  0.429724  0.751744  0.238891  0.340779  \n",
       "2  0.901593  0.142624  0.447939  0.083448  0.543464  0.404925  \n",
       "3  0.749494  0.111231  0.634051  0.953587  0.251857  0.628082  \n",
       "4  0.325583  0.080775  0.122849  0.165796  0.868051  0.236062  \n",
       "\n",
       "[5 rows x 334 columns]"
      ]
     },
     "execution_count": 31,
     "metadata": {},
     "output_type": "execute_result"
    }
   ],
   "source": [
    "newdf.T"
   ]
  },
  {
   "cell_type": "code",
   "execution_count": 32,
   "id": "6e37888e",
   "metadata": {},
   "outputs": [
    {
     "data": {
      "text/html": [
       "<div>\n",
       "<style scoped>\n",
       "    .dataframe tbody tr th:only-of-type {\n",
       "        vertical-align: middle;\n",
       "    }\n",
       "\n",
       "    .dataframe tbody tr th {\n",
       "        vertical-align: top;\n",
       "    }\n",
       "\n",
       "    .dataframe thead th {\n",
       "        text-align: right;\n",
       "    }\n",
       "</style>\n",
       "<table border=\"1\" class=\"dataframe\">\n",
       "  <thead>\n",
       "    <tr style=\"text-align: right;\">\n",
       "      <th></th>\n",
       "      <th>4</th>\n",
       "      <th>3</th>\n",
       "      <th>2</th>\n",
       "      <th>1</th>\n",
       "      <th>0</th>\n",
       "    </tr>\n",
       "  </thead>\n",
       "  <tbody>\n",
       "    <tr>\n",
       "      <th>0</th>\n",
       "      <td>0.169962</td>\n",
       "      <td>0.509728</td>\n",
       "      <td>0.106320</td>\n",
       "      <td>0.574043</td>\n",
       "      <td>0.34566</td>\n",
       "    </tr>\n",
       "    <tr>\n",
       "      <th>1</th>\n",
       "      <td>0.333555</td>\n",
       "      <td>0.990498</td>\n",
       "      <td>0.128035</td>\n",
       "      <td>0.762450</td>\n",
       "      <td>0.269239</td>\n",
       "    </tr>\n",
       "    <tr>\n",
       "      <th>2</th>\n",
       "      <td>0.631210</td>\n",
       "      <td>0.640687</td>\n",
       "      <td>0.442994</td>\n",
       "      <td>0.754798</td>\n",
       "      <td>0.994008</td>\n",
       "    </tr>\n",
       "    <tr>\n",
       "      <th>3</th>\n",
       "      <td>0.359804</td>\n",
       "      <td>0.296447</td>\n",
       "      <td>0.919965</td>\n",
       "      <td>0.143340</td>\n",
       "      <td>0.422978</td>\n",
       "    </tr>\n",
       "    <tr>\n",
       "      <th>4</th>\n",
       "      <td>0.633844</td>\n",
       "      <td>0.379839</td>\n",
       "      <td>0.326173</td>\n",
       "      <td>0.631973</td>\n",
       "      <td>0.559401</td>\n",
       "    </tr>\n",
       "    <tr>\n",
       "      <th>...</th>\n",
       "      <td>...</td>\n",
       "      <td>...</td>\n",
       "      <td>...</td>\n",
       "      <td>...</td>\n",
       "      <td>...</td>\n",
       "    </tr>\n",
       "    <tr>\n",
       "      <th>329</th>\n",
       "      <td>0.080775</td>\n",
       "      <td>0.111231</td>\n",
       "      <td>0.142624</td>\n",
       "      <td>0.128413</td>\n",
       "      <td>0.235456</td>\n",
       "    </tr>\n",
       "    <tr>\n",
       "      <th>330</th>\n",
       "      <td>0.122849</td>\n",
       "      <td>0.634051</td>\n",
       "      <td>0.447939</td>\n",
       "      <td>0.429724</td>\n",
       "      <td>0.301745</td>\n",
       "    </tr>\n",
       "    <tr>\n",
       "      <th>331</th>\n",
       "      <td>0.165796</td>\n",
       "      <td>0.953587</td>\n",
       "      <td>0.083448</td>\n",
       "      <td>0.751744</td>\n",
       "      <td>0.350436</td>\n",
       "    </tr>\n",
       "    <tr>\n",
       "      <th>332</th>\n",
       "      <td>0.868051</td>\n",
       "      <td>0.251857</td>\n",
       "      <td>0.543464</td>\n",
       "      <td>0.238891</td>\n",
       "      <td>0.760203</td>\n",
       "    </tr>\n",
       "    <tr>\n",
       "      <th>333</th>\n",
       "      <td>0.236062</td>\n",
       "      <td>0.628082</td>\n",
       "      <td>0.404925</td>\n",
       "      <td>0.340779</td>\n",
       "      <td>0.869974</td>\n",
       "    </tr>\n",
       "  </tbody>\n",
       "</table>\n",
       "<p>334 rows × 5 columns</p>\n",
       "</div>"
      ],
      "text/plain": [
       "            4         3         2         1         0\n",
       "0    0.169962  0.509728  0.106320  0.574043   0.34566\n",
       "1    0.333555  0.990498  0.128035  0.762450  0.269239\n",
       "2    0.631210  0.640687  0.442994  0.754798  0.994008\n",
       "3    0.359804  0.296447  0.919965  0.143340  0.422978\n",
       "4    0.633844  0.379839  0.326173  0.631973  0.559401\n",
       "..        ...       ...       ...       ...       ...\n",
       "329  0.080775  0.111231  0.142624  0.128413  0.235456\n",
       "330  0.122849  0.634051  0.447939  0.429724  0.301745\n",
       "331  0.165796  0.953587  0.083448  0.751744  0.350436\n",
       "332  0.868051  0.251857  0.543464  0.238891  0.760203\n",
       "333  0.236062  0.628082  0.404925  0.340779  0.869974\n",
       "\n",
       "[334 rows x 5 columns]"
      ]
     },
     "execution_count": 32,
     "metadata": {},
     "output_type": "execute_result"
    }
   ],
   "source": [
    "newdf.sort_index(axis=1,ascending=False)"
   ]
  },
  {
   "cell_type": "code",
   "execution_count": 33,
   "id": "34abce25",
   "metadata": {},
   "outputs": [
    {
     "data": {
      "text/plain": [
       "pandas.core.series.Series"
      ]
     },
     "execution_count": 33,
     "metadata": {},
     "output_type": "execute_result"
    }
   ],
   "source": [
    "type(newdf[0])"
   ]
  },
  {
   "cell_type": "code",
   "execution_count": 34,
   "id": "421b3aa0",
   "metadata": {},
   "outputs": [
    {
     "data": {
      "text/html": [
       "<div>\n",
       "<style scoped>\n",
       "    .dataframe tbody tr th:only-of-type {\n",
       "        vertical-align: middle;\n",
       "    }\n",
       "\n",
       "    .dataframe tbody tr th {\n",
       "        vertical-align: top;\n",
       "    }\n",
       "\n",
       "    .dataframe thead th {\n",
       "        text-align: right;\n",
       "    }\n",
       "</style>\n",
       "<table border=\"1\" class=\"dataframe\">\n",
       "  <thead>\n",
       "    <tr style=\"text-align: right;\">\n",
       "      <th></th>\n",
       "      <th>0</th>\n",
       "      <th>1</th>\n",
       "      <th>2</th>\n",
       "      <th>3</th>\n",
       "      <th>4</th>\n",
       "    </tr>\n",
       "  </thead>\n",
       "  <tbody>\n",
       "    <tr>\n",
       "      <th>0</th>\n",
       "      <td>0.34566</td>\n",
       "      <td>0.574043</td>\n",
       "      <td>0.106320</td>\n",
       "      <td>0.509728</td>\n",
       "      <td>0.169962</td>\n",
       "    </tr>\n",
       "    <tr>\n",
       "      <th>1</th>\n",
       "      <td>0.269239</td>\n",
       "      <td>0.762450</td>\n",
       "      <td>0.128035</td>\n",
       "      <td>0.990498</td>\n",
       "      <td>0.333555</td>\n",
       "    </tr>\n",
       "    <tr>\n",
       "      <th>2</th>\n",
       "      <td>0.994008</td>\n",
       "      <td>0.754798</td>\n",
       "      <td>0.442994</td>\n",
       "      <td>0.640687</td>\n",
       "      <td>0.631210</td>\n",
       "    </tr>\n",
       "    <tr>\n",
       "      <th>3</th>\n",
       "      <td>0.422978</td>\n",
       "      <td>0.143340</td>\n",
       "      <td>0.919965</td>\n",
       "      <td>0.296447</td>\n",
       "      <td>0.359804</td>\n",
       "    </tr>\n",
       "    <tr>\n",
       "      <th>4</th>\n",
       "      <td>0.559401</td>\n",
       "      <td>0.631973</td>\n",
       "      <td>0.326173</td>\n",
       "      <td>0.379839</td>\n",
       "      <td>0.633844</td>\n",
       "    </tr>\n",
       "  </tbody>\n",
       "</table>\n",
       "</div>"
      ],
      "text/plain": [
       "          0         1         2         3         4\n",
       "0   0.34566  0.574043  0.106320  0.509728  0.169962\n",
       "1  0.269239  0.762450  0.128035  0.990498  0.333555\n",
       "2  0.994008  0.754798  0.442994  0.640687  0.631210\n",
       "3  0.422978  0.143340  0.919965  0.296447  0.359804\n",
       "4  0.559401  0.631973  0.326173  0.379839  0.633844"
      ]
     },
     "execution_count": 34,
     "metadata": {},
     "output_type": "execute_result"
    }
   ],
   "source": [
    "newdf.head()"
   ]
  },
  {
   "cell_type": "code",
   "execution_count": 35,
   "id": "72d049cf",
   "metadata": {},
   "outputs": [],
   "source": [
    "newdf2=newdf.copy()"
   ]
  },
  {
   "cell_type": "code",
   "execution_count": 36,
   "id": "249a6166",
   "metadata": {},
   "outputs": [
    {
     "name": "stderr",
     "output_type": "stream",
     "text": [
      "C:\\Users\\siddappa\\AppData\\Local\\Temp\\ipykernel_7024\\2021170525.py:1: SettingWithCopyWarning: \n",
      "A value is trying to be set on a copy of a slice from a DataFrame\n",
      "\n",
      "See the caveats in the documentation: https://pandas.pydata.org/pandas-docs/stable/user_guide/indexing.html#returning-a-view-versus-a-copy\n",
      "  newdf[0][0]=0.348778\n"
     ]
    }
   ],
   "source": [
    "newdf[0][0]=0.348778"
   ]
  },
  {
   "cell_type": "code",
   "execution_count": 37,
   "id": "87c5c20b",
   "metadata": {},
   "outputs": [
    {
     "name": "stderr",
     "output_type": "stream",
     "text": [
      "C:\\Users\\siddappa\\AppData\\Local\\Temp\\ipykernel_7024\\250320429.py:1: SettingWithCopyWarning: \n",
      "A value is trying to be set on a copy of a slice from a DataFrame\n",
      "\n",
      "See the caveats in the documentation: https://pandas.pydata.org/pandas-docs/stable/user_guide/indexing.html#returning-a-view-versus-a-copy\n",
      "  newdf2[0][0]=4576\n"
     ]
    }
   ],
   "source": [
    "newdf2[0][0]=4576"
   ]
  },
  {
   "cell_type": "code",
   "execution_count": 38,
   "id": "201aca20",
   "metadata": {},
   "outputs": [
    {
     "data": {
      "text/html": [
       "<div>\n",
       "<style scoped>\n",
       "    .dataframe tbody tr th:only-of-type {\n",
       "        vertical-align: middle;\n",
       "    }\n",
       "\n",
       "    .dataframe tbody tr th {\n",
       "        vertical-align: top;\n",
       "    }\n",
       "\n",
       "    .dataframe thead th {\n",
       "        text-align: right;\n",
       "    }\n",
       "</style>\n",
       "<table border=\"1\" class=\"dataframe\">\n",
       "  <thead>\n",
       "    <tr style=\"text-align: right;\">\n",
       "      <th></th>\n",
       "      <th>0</th>\n",
       "      <th>1</th>\n",
       "      <th>2</th>\n",
       "      <th>3</th>\n",
       "      <th>4</th>\n",
       "    </tr>\n",
       "  </thead>\n",
       "  <tbody>\n",
       "    <tr>\n",
       "      <th>0</th>\n",
       "      <td>0.348778</td>\n",
       "      <td>0.574043</td>\n",
       "      <td>0.106320</td>\n",
       "      <td>0.509728</td>\n",
       "      <td>0.169962</td>\n",
       "    </tr>\n",
       "    <tr>\n",
       "      <th>1</th>\n",
       "      <td>0.269239</td>\n",
       "      <td>0.762450</td>\n",
       "      <td>0.128035</td>\n",
       "      <td>0.990498</td>\n",
       "      <td>0.333555</td>\n",
       "    </tr>\n",
       "    <tr>\n",
       "      <th>2</th>\n",
       "      <td>0.994008</td>\n",
       "      <td>0.754798</td>\n",
       "      <td>0.442994</td>\n",
       "      <td>0.640687</td>\n",
       "      <td>0.631210</td>\n",
       "    </tr>\n",
       "    <tr>\n",
       "      <th>3</th>\n",
       "      <td>0.422978</td>\n",
       "      <td>0.143340</td>\n",
       "      <td>0.919965</td>\n",
       "      <td>0.296447</td>\n",
       "      <td>0.359804</td>\n",
       "    </tr>\n",
       "    <tr>\n",
       "      <th>4</th>\n",
       "      <td>0.559401</td>\n",
       "      <td>0.631973</td>\n",
       "      <td>0.326173</td>\n",
       "      <td>0.379839</td>\n",
       "      <td>0.633844</td>\n",
       "    </tr>\n",
       "    <tr>\n",
       "      <th>...</th>\n",
       "      <td>...</td>\n",
       "      <td>...</td>\n",
       "      <td>...</td>\n",
       "      <td>...</td>\n",
       "      <td>...</td>\n",
       "    </tr>\n",
       "    <tr>\n",
       "      <th>329</th>\n",
       "      <td>0.235456</td>\n",
       "      <td>0.128413</td>\n",
       "      <td>0.142624</td>\n",
       "      <td>0.111231</td>\n",
       "      <td>0.080775</td>\n",
       "    </tr>\n",
       "    <tr>\n",
       "      <th>330</th>\n",
       "      <td>0.301745</td>\n",
       "      <td>0.429724</td>\n",
       "      <td>0.447939</td>\n",
       "      <td>0.634051</td>\n",
       "      <td>0.122849</td>\n",
       "    </tr>\n",
       "    <tr>\n",
       "      <th>331</th>\n",
       "      <td>0.350436</td>\n",
       "      <td>0.751744</td>\n",
       "      <td>0.083448</td>\n",
       "      <td>0.953587</td>\n",
       "      <td>0.165796</td>\n",
       "    </tr>\n",
       "    <tr>\n",
       "      <th>332</th>\n",
       "      <td>0.760203</td>\n",
       "      <td>0.238891</td>\n",
       "      <td>0.543464</td>\n",
       "      <td>0.251857</td>\n",
       "      <td>0.868051</td>\n",
       "    </tr>\n",
       "    <tr>\n",
       "      <th>333</th>\n",
       "      <td>0.869974</td>\n",
       "      <td>0.340779</td>\n",
       "      <td>0.404925</td>\n",
       "      <td>0.628082</td>\n",
       "      <td>0.236062</td>\n",
       "    </tr>\n",
       "  </tbody>\n",
       "</table>\n",
       "<p>334 rows × 5 columns</p>\n",
       "</div>"
      ],
      "text/plain": [
       "            0         1         2         3         4\n",
       "0    0.348778  0.574043  0.106320  0.509728  0.169962\n",
       "1    0.269239  0.762450  0.128035  0.990498  0.333555\n",
       "2    0.994008  0.754798  0.442994  0.640687  0.631210\n",
       "3    0.422978  0.143340  0.919965  0.296447  0.359804\n",
       "4    0.559401  0.631973  0.326173  0.379839  0.633844\n",
       "..        ...       ...       ...       ...       ...\n",
       "329  0.235456  0.128413  0.142624  0.111231  0.080775\n",
       "330  0.301745  0.429724  0.447939  0.634051  0.122849\n",
       "331  0.350436  0.751744  0.083448  0.953587  0.165796\n",
       "332  0.760203  0.238891  0.543464  0.251857  0.868051\n",
       "333  0.869974  0.340779  0.404925  0.628082  0.236062\n",
       "\n",
       "[334 rows x 5 columns]"
      ]
     },
     "execution_count": 38,
     "metadata": {},
     "output_type": "execute_result"
    }
   ],
   "source": [
    "newdf"
   ]
  },
  {
   "cell_type": "code",
   "execution_count": 39,
   "id": "2f89868d",
   "metadata": {},
   "outputs": [
    {
     "data": {
      "text/html": [
       "<div>\n",
       "<style scoped>\n",
       "    .dataframe tbody tr th:only-of-type {\n",
       "        vertical-align: middle;\n",
       "    }\n",
       "\n",
       "    .dataframe tbody tr th {\n",
       "        vertical-align: top;\n",
       "    }\n",
       "\n",
       "    .dataframe thead th {\n",
       "        text-align: right;\n",
       "    }\n",
       "</style>\n",
       "<table border=\"1\" class=\"dataframe\">\n",
       "  <thead>\n",
       "    <tr style=\"text-align: right;\">\n",
       "      <th></th>\n",
       "      <th>0</th>\n",
       "      <th>1</th>\n",
       "      <th>2</th>\n",
       "      <th>3</th>\n",
       "      <th>4</th>\n",
       "    </tr>\n",
       "  </thead>\n",
       "  <tbody>\n",
       "    <tr>\n",
       "      <th>0</th>\n",
       "      <td>4576</td>\n",
       "      <td>0.574043</td>\n",
       "      <td>0.106320</td>\n",
       "      <td>0.509728</td>\n",
       "      <td>0.169962</td>\n",
       "    </tr>\n",
       "    <tr>\n",
       "      <th>1</th>\n",
       "      <td>0.269239</td>\n",
       "      <td>0.762450</td>\n",
       "      <td>0.128035</td>\n",
       "      <td>0.990498</td>\n",
       "      <td>0.333555</td>\n",
       "    </tr>\n",
       "    <tr>\n",
       "      <th>2</th>\n",
       "      <td>0.994008</td>\n",
       "      <td>0.754798</td>\n",
       "      <td>0.442994</td>\n",
       "      <td>0.640687</td>\n",
       "      <td>0.631210</td>\n",
       "    </tr>\n",
       "    <tr>\n",
       "      <th>3</th>\n",
       "      <td>0.422978</td>\n",
       "      <td>0.143340</td>\n",
       "      <td>0.919965</td>\n",
       "      <td>0.296447</td>\n",
       "      <td>0.359804</td>\n",
       "    </tr>\n",
       "    <tr>\n",
       "      <th>4</th>\n",
       "      <td>0.559401</td>\n",
       "      <td>0.631973</td>\n",
       "      <td>0.326173</td>\n",
       "      <td>0.379839</td>\n",
       "      <td>0.633844</td>\n",
       "    </tr>\n",
       "    <tr>\n",
       "      <th>...</th>\n",
       "      <td>...</td>\n",
       "      <td>...</td>\n",
       "      <td>...</td>\n",
       "      <td>...</td>\n",
       "      <td>...</td>\n",
       "    </tr>\n",
       "    <tr>\n",
       "      <th>329</th>\n",
       "      <td>0.235456</td>\n",
       "      <td>0.128413</td>\n",
       "      <td>0.142624</td>\n",
       "      <td>0.111231</td>\n",
       "      <td>0.080775</td>\n",
       "    </tr>\n",
       "    <tr>\n",
       "      <th>330</th>\n",
       "      <td>0.301745</td>\n",
       "      <td>0.429724</td>\n",
       "      <td>0.447939</td>\n",
       "      <td>0.634051</td>\n",
       "      <td>0.122849</td>\n",
       "    </tr>\n",
       "    <tr>\n",
       "      <th>331</th>\n",
       "      <td>0.350436</td>\n",
       "      <td>0.751744</td>\n",
       "      <td>0.083448</td>\n",
       "      <td>0.953587</td>\n",
       "      <td>0.165796</td>\n",
       "    </tr>\n",
       "    <tr>\n",
       "      <th>332</th>\n",
       "      <td>0.760203</td>\n",
       "      <td>0.238891</td>\n",
       "      <td>0.543464</td>\n",
       "      <td>0.251857</td>\n",
       "      <td>0.868051</td>\n",
       "    </tr>\n",
       "    <tr>\n",
       "      <th>333</th>\n",
       "      <td>0.869974</td>\n",
       "      <td>0.340779</td>\n",
       "      <td>0.404925</td>\n",
       "      <td>0.628082</td>\n",
       "      <td>0.236062</td>\n",
       "    </tr>\n",
       "  </tbody>\n",
       "</table>\n",
       "<p>334 rows × 5 columns</p>\n",
       "</div>"
      ],
      "text/plain": [
       "            0         1         2         3         4\n",
       "0        4576  0.574043  0.106320  0.509728  0.169962\n",
       "1    0.269239  0.762450  0.128035  0.990498  0.333555\n",
       "2    0.994008  0.754798  0.442994  0.640687  0.631210\n",
       "3    0.422978  0.143340  0.919965  0.296447  0.359804\n",
       "4    0.559401  0.631973  0.326173  0.379839  0.633844\n",
       "..        ...       ...       ...       ...       ...\n",
       "329  0.235456  0.128413  0.142624  0.111231  0.080775\n",
       "330  0.301745  0.429724  0.447939  0.634051  0.122849\n",
       "331  0.350436  0.751744  0.083448  0.953587  0.165796\n",
       "332  0.760203  0.238891  0.543464  0.251857  0.868051\n",
       "333  0.869974  0.340779  0.404925  0.628082  0.236062\n",
       "\n",
       "[334 rows x 5 columns]"
      ]
     },
     "execution_count": 39,
     "metadata": {},
     "output_type": "execute_result"
    }
   ],
   "source": [
    "newdf2"
   ]
  },
  {
   "cell_type": "code",
   "execution_count": 40,
   "id": "e2d99c24",
   "metadata": {},
   "outputs": [
    {
     "data": {
      "text/plain": [
       "(4, 3)"
      ]
     },
     "execution_count": 40,
     "metadata": {},
     "output_type": "execute_result"
    }
   ],
   "source": [
    "df.shape"
   ]
  },
  {
   "cell_type": "code",
   "execution_count": 41,
   "id": "a8817b91",
   "metadata": {},
   "outputs": [
    {
     "name": "stdout",
     "output_type": "stream",
     "text": [
      "<class 'pandas.core.frame.DataFrame'>\n",
      "Index: 4 entries, first to fourth\n",
      "Data columns (total 3 columns):\n",
      " #   Column  Non-Null Count  Dtype \n",
      "---  ------  --------------  ----- \n",
      " 0   name    4 non-null      object\n",
      " 1   marks   4 non-null      int64 \n",
      " 2   city    4 non-null      object\n",
      "dtypes: int64(1), object(2)\n",
      "memory usage: 128.0+ bytes\n"
     ]
    }
   ],
   "source": [
    "df.info()"
   ]
  },
  {
   "cell_type": "code",
   "execution_count": 51,
   "id": "1234fdef",
   "metadata": {},
   "outputs": [
    {
     "data": {
      "text/html": [
       "<div>\n",
       "<style scoped>\n",
       "    .dataframe tbody tr th:only-of-type {\n",
       "        vertical-align: middle;\n",
       "    }\n",
       "\n",
       "    .dataframe tbody tr th {\n",
       "        vertical-align: top;\n",
       "    }\n",
       "\n",
       "    .dataframe thead th {\n",
       "        text-align: right;\n",
       "    }\n",
       "</style>\n",
       "<table border=\"1\" class=\"dataframe\">\n",
       "  <thead>\n",
       "    <tr style=\"text-align: right;\">\n",
       "      <th></th>\n",
       "      <th>marks</th>\n",
       "    </tr>\n",
       "  </thead>\n",
       "  <tbody>\n",
       "    <tr>\n",
       "      <th>count</th>\n",
       "      <td>4.000000</td>\n",
       "    </tr>\n",
       "    <tr>\n",
       "      <th>mean</th>\n",
       "      <td>34.500000</td>\n",
       "    </tr>\n",
       "    <tr>\n",
       "      <th>std</th>\n",
       "      <td>38.388366</td>\n",
       "    </tr>\n",
       "    <tr>\n",
       "      <th>min</th>\n",
       "      <td>13.000000</td>\n",
       "    </tr>\n",
       "    <tr>\n",
       "      <th>25%</th>\n",
       "      <td>14.500000</td>\n",
       "    </tr>\n",
       "    <tr>\n",
       "      <th>50%</th>\n",
       "      <td>16.500000</td>\n",
       "    </tr>\n",
       "    <tr>\n",
       "      <th>75%</th>\n",
       "      <td>36.500000</td>\n",
       "    </tr>\n",
       "    <tr>\n",
       "      <th>max</th>\n",
       "      <td>92.000000</td>\n",
       "    </tr>\n",
       "  </tbody>\n",
       "</table>\n",
       "</div>"
      ],
      "text/plain": [
       "           marks\n",
       "count   4.000000\n",
       "mean   34.500000\n",
       "std    38.388366\n",
       "min    13.000000\n",
       "25%    14.500000\n",
       "50%    16.500000\n",
       "75%    36.500000\n",
       "max    92.000000"
      ]
     },
     "execution_count": 51,
     "metadata": {},
     "output_type": "execute_result"
    }
   ],
   "source": [
    "# df.mean()\n",
    "df.describe()\n"
   ]
  },
  {
   "cell_type": "code",
   "execution_count": 52,
   "id": "1cca27fa",
   "metadata": {},
   "outputs": [
    {
     "data": {
      "text/html": [
       "<div>\n",
       "<style scoped>\n",
       "    .dataframe tbody tr th:only-of-type {\n",
       "        vertical-align: middle;\n",
       "    }\n",
       "\n",
       "    .dataframe tbody tr th {\n",
       "        vertical-align: top;\n",
       "    }\n",
       "\n",
       "    .dataframe thead th {\n",
       "        text-align: right;\n",
       "    }\n",
       "</style>\n",
       "<table border=\"1\" class=\"dataframe\">\n",
       "  <thead>\n",
       "    <tr style=\"text-align: right;\">\n",
       "      <th></th>\n",
       "      <th>marks</th>\n",
       "    </tr>\n",
       "  </thead>\n",
       "  <tbody>\n",
       "    <tr>\n",
       "      <th>marks</th>\n",
       "      <td>1.0</td>\n",
       "    </tr>\n",
       "  </tbody>\n",
       "</table>\n",
       "</div>"
      ],
      "text/plain": [
       "       marks\n",
       "marks    1.0"
      ]
     },
     "execution_count": 52,
     "metadata": {},
     "output_type": "execute_result"
    }
   ],
   "source": [
    "df.corr()"
   ]
  },
  {
   "cell_type": "code",
   "execution_count": 53,
   "id": "dc51b438",
   "metadata": {},
   "outputs": [
    {
     "data": {
      "text/plain": [
       "name     siddu\n",
       "marks       92\n",
       "city       ukd\n",
       "dtype: object"
      ]
     },
     "execution_count": 53,
     "metadata": {},
     "output_type": "execute_result"
    }
   ],
   "source": [
    "df.max()"
   ]
  },
  {
   "cell_type": "code",
   "execution_count": 54,
   "id": "4752845f",
   "metadata": {},
   "outputs": [
    {
     "data": {
      "text/plain": [
       "name     4\n",
       "marks    4\n",
       "city     4\n",
       "dtype: int64"
      ]
     },
     "execution_count": 54,
     "metadata": {},
     "output_type": "execute_result"
    }
   ],
   "source": [
    "df.count()"
   ]
  },
  {
   "cell_type": "code",
   "execution_count": 55,
   "id": "a1367041",
   "metadata": {},
   "outputs": [
    {
     "data": {
      "text/plain": [
       "name     harry\n",
       "marks       13\n",
       "city      bang\n",
       "dtype: object"
      ]
     },
     "execution_count": 55,
     "metadata": {},
     "output_type": "execute_result"
    }
   ],
   "source": [
    "df.min()"
   ]
  },
  {
   "cell_type": "code",
   "execution_count": 60,
   "id": "3e2cb280",
   "metadata": {},
   "outputs": [
    {
     "data": {
      "text/plain": [
       "0    0.479838\n",
       "1    0.503266\n",
       "2    0.505942\n",
       "3    0.509574\n",
       "4    0.505977\n",
       "dtype: float64"
      ]
     },
     "execution_count": 60,
     "metadata": {},
     "output_type": "execute_result"
    }
   ],
   "source": [
    "newdf.median()"
   ]
  },
  {
   "cell_type": "code",
   "execution_count": null,
   "id": "58ac3992",
   "metadata": {},
   "outputs": [],
   "source": []
  }
 ],
 "metadata": {
  "kernelspec": {
   "display_name": "Python 3 (ipykernel)",
   "language": "python",
   "name": "python3"
  },
  "language_info": {
   "codemirror_mode": {
    "name": "ipython",
    "version": 3
   },
   "file_extension": ".py",
   "mimetype": "text/x-python",
   "name": "python",
   "nbconvert_exporter": "python",
   "pygments_lexer": "ipython3",
   "version": "3.9.13"
  }
 },
 "nbformat": 4,
 "nbformat_minor": 5
}
